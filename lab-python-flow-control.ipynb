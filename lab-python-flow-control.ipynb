{
 "cells": [
  {
   "cell_type": "markdown",
   "id": "d3bfc191-8885-42ee-b0a0-bbab867c6f9f",
   "metadata": {
    "tags": []
   },
   "source": [
    "# Lab | Flow Control"
   ]
  },
  {
   "cell_type": "markdown",
   "id": "3851fcd1-cf98-4653-9c89-e003b7ec9400",
   "metadata": {},
   "source": [
    "## Exercise: Managing Customer Orders Optimized\n",
    "\n",
    "In the last lab, you were starting an online store that sells various products. To ensure smooth operations, you developed a program that manages customer orders and inventory.\n",
    "\n",
    "You did so without using flow control. Let's go a step further and improve this code.\n",
    "\n",
    "Follow the steps below to complete the exercise:\n",
    "\n",
    "1. Look at your code from the lab data structures, and improve repeated code with loops.\n",
    "\n",
    "2. Instead of asking the user to input the name of three products that a customer wants to order, do the following:\n",
    "    \n",
    "    a. Prompt the user to enter the name of a product that a customer wants to order.\n",
    "    \n",
    "    b. Add the product name to the \"customer_orders\" set.\n",
    "    \n",
    "    c. Ask the user if they want to add another product (yes/no).\n",
    "    \n",
    "    d. Continue the loop until the user does not want to add another product.\n",
    "\n",
    "3. Instead of updating the inventory by subtracting 1 from the quantity of each product, only do it for  the products that were ordered (those in \"customer_orders\")."
   ]
  },
  {
   "cell_type": "code",
   "execution_count": 3,
   "id": "159a268c-8c77-4272-9e9d-2576a91dd006",
   "metadata": {},
   "outputs": [
    {
     "name": "stdin",
     "output_type": "stream",
     "text": [
      "What is the quantity of each product t-shirt available in the inventory.  3\n",
      "What is the quantity of each product mug available in the inventory.  4\n",
      "What is the quantity of each product hat available in the inventory.  3\n",
      "What is the quantity of each product book available in the inventory.  2\n",
      "What is the quantity of each product keychain available in the inventory.  3\n"
     ]
    },
    {
     "name": "stdout",
     "output_type": "stream",
     "text": [
      "The quantity of each product available in the inventory:\n",
      "{'t-shirt': 3, 'mug': 4, 'hat': 3, 'book': 2, 'keychain': 3}\n"
     ]
    }
   ],
   "source": [
    "products = [\"t-shirt\", \"mug\", \"hat\", \"book\", \"keychain\"]\n",
    "type(products)\n",
    "inventory = {}\n",
    "\n",
    "\n",
    "for product in products:\n",
    "    quantities = input(f\"What is the quantity of each product {product} available in the inventory. \")\n",
    "    inventory[product] = int(quantities) # Convert input to int and store in dictionary inventory\n",
    "\n",
    "print(f\"The quantity of each product available in the inventory:\\n{inventory}\")\n"
   ]
  },
  {
   "cell_type": "code",
   "execution_count": 4,
   "id": "7f4578be-bac7-4b31-b88e-f6a9c8118d1d",
   "metadata": {},
   "outputs": [
    {
     "name": "stdin",
     "output_type": "stream",
     "text": [
      "What product ['t-shirt', 'mug', 'hat', 'book', 'keychain'] do you want to add? keychain\n"
     ]
    },
    {
     "name": "stdout",
     "output_type": "stream",
     "text": [
      "{'keychain'} has been added to your order!\n"
     ]
    }
   ],
   "source": [
    "\n",
    "        \n",
    "products = [\"t-shirt\", \"mug\", \"hat\", \"book\", \"keychain\"]\n",
    "customer_orders = set()\n",
    "\n",
    "\n",
    "user_input = input(f\"What product {products} do you want to add?\").lower().strip()\n",
    "if user_input in products:\n",
    "    customer_orders.add(user_input)\n",
    "    print(f\"{customer_orders} has been added to your order!\")\n",
    "\n",
    "else:\n",
    "    print(f\"Please enter one of the available products: {products}.\")\n"
   ]
  },
  {
   "cell_type": "code",
   "execution_count": 8,
   "id": "c514049c-62b9-45d1-99d9-690b1cb44dac",
   "metadata": {},
   "outputs": [
    {
     "name": "stdin",
     "output_type": "stream",
     "text": [
      "Do you want to add another product (yes/no) yes\n",
      "What product ['t-shirt', 'mug', 'hat', 'book', 'keychain'] do you want to add? hat\n"
     ]
    },
    {
     "name": "stdout",
     "output_type": "stream",
     "text": [
      "{'hat'} has been added to your order!\n"
     ]
    },
    {
     "name": "stdin",
     "output_type": "stream",
     "text": [
      "Do you want to add another product (yes/no) hat\n",
      "Do you want to add another product (yes/no) yes\n",
      "What product ['t-shirt', 'mug', 'hat', 'book', 'keychain'] do you want to add? hat\n"
     ]
    },
    {
     "name": "stdout",
     "output_type": "stream",
     "text": [
      "{'hat'} has been added to your order!\n"
     ]
    },
    {
     "name": "stdin",
     "output_type": "stream",
     "text": [
      "Do you want to add another product (yes/no) yes\n",
      "What product ['t-shirt', 'mug', 'hat', 'book', 'keychain'] do you want to add? hat\n"
     ]
    },
    {
     "name": "stdout",
     "output_type": "stream",
     "text": [
      "{'hat'} has been added to your order!\n"
     ]
    },
    {
     "name": "stdin",
     "output_type": "stream",
     "text": [
      "Do you want to add another product (yes/no) no\n"
     ]
    },
    {
     "name": "stdout",
     "output_type": "stream",
     "text": [
      "Exiting the loop.\n",
      "Updated inventory:\n",
      "{'t-shirt': 3, 'mug': 3, 'hat': 1, 'book': 1, 'keychain': 3}\n"
     ]
    }
   ],
   "source": [
    "products = [\"t-shirt\", \"mug\", \"hat\", \"book\", \"keychain\"]\n",
    "customer_orders = set()\n",
    "\n",
    "while True:\n",
    "    user_input_1 = input(\"Do you want to add another product (yes/no)\").lower().strip()\n",
    "    if user_input_1 == \"no\":\n",
    "        print(\"Exiting the loop.\")\n",
    "        break\n",
    "    elif user_input_1 == \"yes\":\n",
    "        user_input_2 = input(f\"What product {products} do you want to add?\").lower().strip()\n",
    "        if user_input_2 in products:\n",
    "            customer_orders.add(user_input_2)\n",
    "            print(f\"{customer_orders} has been added to your order!\")\n",
    "        else:\n",
    "            print(\"Please enter the name of one of the products.\")\n",
    "\n",
    "for product in customer_orders:\n",
    "    if product in inventory and inventory[product] > 0:\n",
    "        inventory[product] -= 1  \n",
    "\n",
    "print(\"Updated inventory:\")\n",
    "print(inventory)\n",
    "\n",
    "\n",
    "    \n",
    "           "
   ]
  },
  {
   "cell_type": "code",
   "execution_count": null,
   "id": "476c5922-f5b0-4612-aaf9-aedb05453b59",
   "metadata": {},
   "outputs": [],
   "source": []
  }
 ],
 "metadata": {
  "kernelspec": {
   "display_name": "Python 3 (ipykernel)",
   "language": "python",
   "name": "python3"
  },
  "language_info": {
   "codemirror_mode": {
    "name": "ipython",
    "version": 3
   },
   "file_extension": ".py",
   "mimetype": "text/x-python",
   "name": "python",
   "nbconvert_exporter": "python",
   "pygments_lexer": "ipython3",
   "version": "3.12.2"
  }
 },
 "nbformat": 4,
 "nbformat_minor": 5
}
